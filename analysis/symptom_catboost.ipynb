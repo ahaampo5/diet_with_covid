{
 "cells": [
  {
   "cell_type": "code",
   "execution_count": 1,
   "id": "b3b7ba25",
   "metadata": {
    "colab": {
     "base_uri": "https://localhost:8080/"
    },
    "executionInfo": {
     "elapsed": 3439,
     "status": "ok",
     "timestamp": 1637922246387,
     "user": {
      "displayName": "JCdata",
      "photoUrl": "https://lh3.googleusercontent.com/a/default-user=s64",
      "userId": "18221923975897538727"
     },
     "user_tz": -540
    },
    "id": "2H4hxMPOKpSj",
    "outputId": "fa9bc577-70a9-451f-cafd-051a54b55566"
   },
   "outputs": [
    {
     "name": "stdout",
     "output_type": "stream",
     "text": [
      "Requirement already satisfied: catboost in c:\\users\\jcdata\\miniconda3\\envs\\food\\lib\\site-packages (1.0.3)\n",
      "Requirement already satisfied: graphviz in c:\\users\\jcdata\\miniconda3\\envs\\food\\lib\\site-packages (from catboost) (0.18)\n",
      "Requirement already satisfied: scipy in c:\\users\\jcdata\\miniconda3\\envs\\food\\lib\\site-packages (from catboost) (1.5.4)\n",
      "Requirement already satisfied: plotly in c:\\users\\jcdata\\miniconda3\\envs\\food\\lib\\site-packages (from catboost) (5.3.1)\n",
      "Requirement already satisfied: pandas>=0.24.0 in c:\\users\\jcdata\\miniconda3\\envs\\food\\lib\\site-packages (from catboost) (1.3.4)\n",
      "Requirement already satisfied: matplotlib in c:\\users\\jcdata\\miniconda3\\envs\\food\\lib\\site-packages (from catboost) (3.4.3)\n",
      "Requirement already satisfied: six in c:\\users\\jcdata\\miniconda3\\envs\\food\\lib\\site-packages (from catboost) (1.16.0)\n",
      "Requirement already satisfied: numpy>=1.16.0 in c:\\users\\jcdata\\miniconda3\\envs\\food\\lib\\site-packages (from catboost) (1.21.4)\n",
      "Requirement already satisfied: python-dateutil>=2.7.3 in c:\\users\\jcdata\\miniconda3\\envs\\food\\lib\\site-packages (from pandas>=0.24.0->catboost) (2.8.2)\n",
      "Requirement already satisfied: pytz>=2017.3 in c:\\users\\jcdata\\miniconda3\\envs\\food\\lib\\site-packages (from pandas>=0.24.0->catboost) (2021.3)\n",
      "Requirement already satisfied: pyparsing>=2.2.1 in c:\\users\\jcdata\\miniconda3\\envs\\food\\lib\\site-packages (from matplotlib->catboost) (2.4.7)\n",
      "Requirement already satisfied: pillow>=6.2.0 in c:\\users\\jcdata\\miniconda3\\envs\\food\\lib\\site-packages (from matplotlib->catboost) (8.4.0)\n",
      "Requirement already satisfied: kiwisolver>=1.0.1 in c:\\users\\jcdata\\miniconda3\\envs\\food\\lib\\site-packages (from matplotlib->catboost) (1.3.2)\n",
      "Requirement already satisfied: cycler>=0.10 in c:\\users\\jcdata\\miniconda3\\envs\\food\\lib\\site-packages (from matplotlib->catboost) (0.11.0)\n",
      "Requirement already satisfied: tenacity>=6.2.0 in c:\\users\\jcdata\\miniconda3\\envs\\food\\lib\\site-packages (from plotly->catboost) (8.0.1)\n"
     ]
    }
   ],
   "source": [
    "!pip install catboost"
   ]
  },
  {
   "cell_type": "code",
   "execution_count": 2,
   "id": "16bd809f",
   "metadata": {
    "executionInfo": {
     "elapsed": 650,
     "status": "ok",
     "timestamp": 1637922247031,
     "user": {
      "displayName": "JCdata",
      "photoUrl": "https://lh3.googleusercontent.com/a/default-user=s64",
      "userId": "18221923975897538727"
     },
     "user_tz": -540
    },
    "id": "b766d9bd"
   },
   "outputs": [],
   "source": [
    "import warnings\n",
    "warnings.filterwarnings('ignore')\n",
    "\n",
    "import os, sys, gc, warnings, random\n",
    "\n",
    "import pandas as pd\n",
    "import numpy as np\n",
    "\n",
    "import matplotlib.pyplot as plt\n",
    "import seaborn as sns\n",
    "\n",
    "from sklearn.pipeline import Pipeline\n",
    "from sklearn.preprocessing import MinMaxScaler\n",
    "from sklearn.metrics import mean_squared_error\n",
    "from sklearn.model_selection import train_test_split, cross_val_score, KFold\n",
    "from sklearn.ensemble import GradientBoostingRegressor\n",
    "\n",
    "import lightgbm as lgb\n",
    "from catboost import CatBoostClassifier, Pool\n",
    "\n",
    "from tqdm.notebook import tqdm\n",
    "\n",
    "pd.set_option('display.max_row', 200)\n",
    "pd.set_option('display.max_columns', 100)\n",
    "%matplotlib inline"
   ]
  },
  {
   "cell_type": "code",
   "execution_count": 3,
   "id": "7a6b3f62",
   "metadata": {
    "executionInfo": {
     "elapsed": 7,
     "status": "ok",
     "timestamp": 1637922247032,
     "user": {
      "displayName": "JCdata",
      "photoUrl": "https://lh3.googleusercontent.com/a/default-user=s64",
      "userId": "18221923975897538727"
     },
     "user_tz": -540
    },
    "id": "873b545e"
   },
   "outputs": [],
   "source": [
    "def seed_everything(SEED=9):\n",
    "    random.seed(SEED)\n",
    "    os.environ['PYTHONHASHSEED'] = str(SEED)\n",
    "    np.random.seed(SEED)\n",
    "\n",
    "SEED = 9\n",
    "seed_everything(SEED)"
   ]
  },
  {
   "cell_type": "markdown",
   "id": "ed614247",
   "metadata": {
    "id": "h4uvigGEF7Wp"
   },
   "source": [
    "### 데이터 가져오기"
   ]
  },
  {
   "cell_type": "code",
   "execution_count": 4,
   "id": "8391094f",
   "metadata": {
    "executionInfo": {
     "elapsed": 4816,
     "status": "ok",
     "timestamp": 1637922251842,
     "user": {
      "displayName": "JCdata",
      "photoUrl": "https://lh3.googleusercontent.com/a/default-user=s64",
      "userId": "18221923975897538727"
     },
     "user_tz": -540
    },
    "id": "c6e1c26a"
   },
   "outputs": [],
   "source": [
    "df = pd.read_csv('cleaned_symptom2.csv') "
   ]
  },
  {
   "cell_type": "markdown",
   "id": "9949e460",
   "metadata": {
    "id": "kzLfYO6RErVA"
   },
   "source": [
    "### NULL, 필요없는 데이터 제거"
   ]
  },
  {
   "cell_type": "code",
   "execution_count": 5,
   "id": "9f3113f0",
   "metadata": {
    "colab": {
     "base_uri": "https://localhost:8080/"
    },
    "executionInfo": {
     "elapsed": 13,
     "status": "ok",
     "timestamp": 1637922251844,
     "user": {
      "displayName": "JCdata",
      "photoUrl": "https://lh3.googleusercontent.com/a/default-user=s64",
      "userId": "18221923975897538727"
     },
     "user_tz": -540
    },
    "id": "d1b789e8",
    "outputId": "1bdda8ba-71f4-4f0e-aea5-fe9a532854d0"
   },
   "outputs": [
    {
     "data": {
      "text/plain": [
       "array(['שלילי', 'אחר', 'חיובי'], dtype=object)"
      ]
     },
     "execution_count": 5,
     "metadata": {},
     "output_type": "execute_result"
    }
   ],
   "source": [
    "df.corona_result.unique()"
   ]
  },
  {
   "cell_type": "code",
   "execution_count": 6,
   "id": "921e5ec1",
   "metadata": {
    "colab": {
     "base_uri": "https://localhost:8080/"
    },
    "executionInfo": {
     "elapsed": 2460,
     "status": "ok",
     "timestamp": 1637922254297,
     "user": {
      "displayName": "JCdata",
      "photoUrl": "https://lh3.googleusercontent.com/a/default-user=s64",
      "userId": "18221923975897538727"
     },
     "user_tz": -540
    },
    "id": "c732aef3",
    "outputId": "4bcc424a-919d-4ad3-bd57-cd291469c227"
   },
   "outputs": [
    {
     "data": {
      "text/plain": [
       "test_date                    0\n",
       "cough                        0\n",
       "fever                        0\n",
       "sore_throat                  0\n",
       "shortness_of_breath          0\n",
       "head_ache                    0\n",
       "corona_result                0\n",
       "age_60_and_above       1789274\n",
       "gender                  601128\n",
       "test_indication              0\n",
       "dtype: int64"
      ]
     },
     "execution_count": 6,
     "metadata": {},
     "output_type": "execute_result"
    }
   ],
   "source": [
    "df.isna().sum()"
   ]
  },
  {
   "cell_type": "code",
   "execution_count": 7,
   "id": "300eb196",
   "metadata": {
    "colab": {
     "base_uri": "https://localhost:8080/"
    },
    "executionInfo": {
     "elapsed": 12,
     "status": "ok",
     "timestamp": 1637922254298,
     "user": {
      "displayName": "JCdata",
      "photoUrl": "https://lh3.googleusercontent.com/a/default-user=s64",
      "userId": "18221923975897538727"
     },
     "user_tz": -540
    },
    "id": "c5bbd21b",
    "outputId": "d62eb283-187a-42ce-d903-ab4fb90d9f32"
   },
   "outputs": [
    {
     "data": {
      "text/plain": [
       "(7861471, 10)"
      ]
     },
     "execution_count": 7,
     "metadata": {},
     "output_type": "execute_result"
    }
   ],
   "source": [
    "df.shape"
   ]
  },
  {
   "cell_type": "code",
   "execution_count": 8,
   "id": "5b470aef",
   "metadata": {
    "executionInfo": {
     "elapsed": 1186,
     "status": "ok",
     "timestamp": 1637922255477,
     "user": {
      "displayName": "JCdata",
      "photoUrl": "https://lh3.googleusercontent.com/a/default-user=s64",
      "userId": "18221923975897538727"
     },
     "user_tz": -540
    },
    "id": "dfffba60"
   },
   "outputs": [],
   "source": [
    "df = df[df.isna().age_60_and_above==False]"
   ]
  },
  {
   "cell_type": "code",
   "execution_count": 9,
   "id": "6ea6c894",
   "metadata": {
    "executionInfo": {
     "elapsed": 2566,
     "status": "ok",
     "timestamp": 1637922258040,
     "user": {
      "displayName": "JCdata",
      "photoUrl": "https://lh3.googleusercontent.com/a/default-user=s64",
      "userId": "18221923975897538727"
     },
     "user_tz": -540
    },
    "id": "f0683e7e"
   },
   "outputs": [],
   "source": [
    "df = df[df.isna().gender==False]"
   ]
  },
  {
   "cell_type": "code",
   "execution_count": 10,
   "id": "9f9e641c",
   "metadata": {
    "executionInfo": {
     "elapsed": 10,
     "status": "ok",
     "timestamp": 1637922258041,
     "user": {
      "displayName": "JCdata",
      "photoUrl": "https://lh3.googleusercontent.com/a/default-user=s64",
      "userId": "18221923975897538727"
     },
     "user_tz": -540
    },
    "id": "929b1242"
   },
   "outputs": [],
   "source": [
    "df = df[df.corona_result!='אחר']"
   ]
  },
  {
   "cell_type": "markdown",
   "id": "354d3c06",
   "metadata": {
    "id": "JjFrqDLMFdE4"
   },
   "source": [
    "### 코로나 결과 인코딩"
   ]
  },
  {
   "cell_type": "code",
   "execution_count": 11,
   "id": "c89c1a40",
   "metadata": {
    "colab": {
     "base_uri": "https://localhost:8080/"
    },
    "executionInfo": {
     "elapsed": 10,
     "status": "ok",
     "timestamp": 1637922258042,
     "user": {
      "displayName": "JCdata",
      "photoUrl": "https://lh3.googleusercontent.com/a/default-user=s64",
      "userId": "18221923975897538727"
     },
     "user_tz": -540
    },
    "id": "2676033a",
    "outputId": "20cea22e-6674-42cc-bd48-8db8e080e2ed"
   },
   "outputs": [
    {
     "data": {
      "text/plain": [
       "array(['שלילי', 'חיובי'], dtype=object)"
      ]
     },
     "execution_count": 11,
     "metadata": {},
     "output_type": "execute_result"
    }
   ],
   "source": [
    "df.corona_result.unique() # 'שלילי', 'חיובי' / 양성, 음성"
   ]
  },
  {
   "cell_type": "code",
   "execution_count": 12,
   "id": "c7fbec2b",
   "metadata": {
    "executionInfo": {
     "elapsed": 1342,
     "status": "ok",
     "timestamp": 1637922259377,
     "user": {
      "displayName": "JCdata",
      "photoUrl": "https://lh3.googleusercontent.com/a/default-user=s64",
      "userId": "18221923975897538727"
     },
     "user_tz": -540
    },
    "id": "ad866910"
   },
   "outputs": [],
   "source": [
    "dict2 = {key:value for (key,value) in zip(df.corona_result.unique(), range(2))}"
   ]
  },
  {
   "cell_type": "code",
   "execution_count": 13,
   "id": "3415b16c",
   "metadata": {
    "colab": {
     "base_uri": "https://localhost:8080/"
    },
    "executionInfo": {
     "elapsed": 12,
     "status": "ok",
     "timestamp": 1637922259378,
     "user": {
      "displayName": "JCdata",
      "photoUrl": "https://lh3.googleusercontent.com/a/default-user=s64",
      "userId": "18221923975897538727"
     },
     "user_tz": -540
    },
    "id": "34224beb",
    "outputId": "709a9edf-9253-4efd-d48c-24feefc4457e"
   },
   "outputs": [
    {
     "data": {
      "text/plain": [
       "{'שלילי': 0, 'חיובי': 1}"
      ]
     },
     "execution_count": 13,
     "metadata": {},
     "output_type": "execute_result"
    }
   ],
   "source": [
    "dict2"
   ]
  },
  {
   "cell_type": "code",
   "execution_count": 14,
   "id": "f95f3c63",
   "metadata": {
    "executionInfo": {
     "elapsed": 699,
     "status": "ok",
     "timestamp": 1637922260072,
     "user": {
      "displayName": "JCdata",
      "photoUrl": "https://lh3.googleusercontent.com/a/default-user=s64",
      "userId": "18221923975897538727"
     },
     "user_tz": -540
    },
    "id": "11670713"
   },
   "outputs": [],
   "source": [
    "df['corona_result'] = df['corona_result'].map(lambda x:dict2[x])\n"
   ]
  },
  {
   "cell_type": "markdown",
   "id": "659551c3",
   "metadata": {
    "id": "EqwWJdTuFTnA"
   },
   "source": [
    "### Gender 인코딩"
   ]
  },
  {
   "cell_type": "code",
   "execution_count": 15,
   "id": "04daea5c",
   "metadata": {
    "colab": {
     "base_uri": "https://localhost:8080/"
    },
    "executionInfo": {
     "elapsed": 11,
     "status": "ok",
     "timestamp": 1637922260073,
     "user": {
      "displayName": "JCdata",
      "photoUrl": "https://lh3.googleusercontent.com/a/default-user=s64",
      "userId": "18221923975897538727"
     },
     "user_tz": -540
    },
    "id": "85424b41",
    "outputId": "bab5e3e5-aa97-4bdd-e86b-bd9075dcfd8b"
   },
   "outputs": [
    {
     "data": {
      "text/plain": [
       "array(['נקבה', 'זכר'], dtype=object)"
      ]
     },
     "execution_count": 15,
     "metadata": {},
     "output_type": "execute_result"
    }
   ],
   "source": [
    "df.gender.unique() # 'נקבה', 'זכר' / 남성1, 여성0"
   ]
  },
  {
   "cell_type": "code",
   "execution_count": 16,
   "id": "421206bd",
   "metadata": {
    "executionInfo": {
     "elapsed": 9,
     "status": "ok",
     "timestamp": 1637922260074,
     "user": {
      "displayName": "JCdata",
      "photoUrl": "https://lh3.googleusercontent.com/a/default-user=s64",
      "userId": "18221923975897538727"
     },
     "user_tz": -540
    },
    "id": "dc4117cd"
   },
   "outputs": [],
   "source": [
    "dict_gender = {key:value for (key,value) in zip(df.gender.unique(), range(2))}"
   ]
  },
  {
   "cell_type": "code",
   "execution_count": 17,
   "id": "63daa9cf",
   "metadata": {
    "colab": {
     "base_uri": "https://localhost:8080/"
    },
    "executionInfo": {
     "elapsed": 8,
     "status": "ok",
     "timestamp": 1637922260075,
     "user": {
      "displayName": "JCdata",
      "photoUrl": "https://lh3.googleusercontent.com/a/default-user=s64",
      "userId": "18221923975897538727"
     },
     "user_tz": -540
    },
    "id": "49af25f8",
    "outputId": "cf311c93-e8b9-4de4-df25-57433f9e9408"
   },
   "outputs": [
    {
     "data": {
      "text/plain": [
       "{'נקבה': 0, 'זכר': 1}"
      ]
     },
     "execution_count": 17,
     "metadata": {},
     "output_type": "execute_result"
    }
   ],
   "source": [
    "dict_gender"
   ]
  },
  {
   "cell_type": "code",
   "execution_count": 18,
   "id": "08fa238d",
   "metadata": {
    "executionInfo": {
     "elapsed": 2179,
     "status": "ok",
     "timestamp": 1637922262247,
     "user": {
      "displayName": "JCdata",
      "photoUrl": "https://lh3.googleusercontent.com/a/default-user=s64",
      "userId": "18221923975897538727"
     },
     "user_tz": -540
    },
    "id": "09b1e148",
    "scrolled": true
   },
   "outputs": [],
   "source": [
    "df['gender'] = df['gender'].map(lambda x:dict_gender[x])"
   ]
  },
  {
   "cell_type": "code",
   "execution_count": 19,
   "id": "9d7ef45d",
   "metadata": {
    "colab": {
     "base_uri": "https://localhost:8080/"
    },
    "executionInfo": {
     "elapsed": 8,
     "status": "ok",
     "timestamp": 1637922262248,
     "user": {
      "displayName": "JCdata",
      "photoUrl": "https://lh3.googleusercontent.com/a/default-user=s64",
      "userId": "18221923975897538727"
     },
     "user_tz": -540
    },
    "id": "798df3b4",
    "outputId": "2db88a8c-6914-4f04-fed7-1749716eca56"
   },
   "outputs": [
    {
     "data": {
      "text/plain": [
       "array(['Other', 'Abroad', 'Contact with confirmed'], dtype=object)"
      ]
     },
     "execution_count": 19,
     "metadata": {},
     "output_type": "execute_result"
    }
   ],
   "source": [
    "df.test_indication.unique()"
   ]
  },
  {
   "cell_type": "markdown",
   "id": "c681ca85",
   "metadata": {
    "id": "gVnisZqnEgMb"
   },
   "source": [
    "### 60이상 인코딩"
   ]
  },
  {
   "cell_type": "code",
   "execution_count": 20,
   "id": "2a480fff",
   "metadata": {
    "colab": {
     "base_uri": "https://localhost:8080/"
    },
    "executionInfo": {
     "elapsed": 679,
     "status": "ok",
     "timestamp": 1637922262922,
     "user": {
      "displayName": "JCdata",
      "photoUrl": "https://lh3.googleusercontent.com/a/default-user=s64",
      "userId": "18221923975897538727"
     },
     "user_tz": -540
    },
    "id": "95261615",
    "outputId": "7c4bc3a1-0bb6-40ea-ee72-bed09c01e719"
   },
   "outputs": [
    {
     "data": {
      "text/plain": [
       "{'Yes': 1, 'No': 0}"
      ]
     },
     "execution_count": 20,
     "metadata": {},
     "output_type": "execute_result"
    }
   ],
   "source": [
    "dict_60 = {key:value for (key,value) in zip(df.age_60_and_above.unique(), range(1,-1,-1))}\n",
    "dict_60"
   ]
  },
  {
   "cell_type": "code",
   "execution_count": 21,
   "id": "b6b5dba2",
   "metadata": {
    "executionInfo": {
     "elapsed": 2821,
     "status": "ok",
     "timestamp": 1637922265740,
     "user": {
      "displayName": "JCdata",
      "photoUrl": "https://lh3.googleusercontent.com/a/default-user=s64",
      "userId": "18221923975897538727"
     },
     "user_tz": -540
    },
    "id": "8247781d"
   },
   "outputs": [],
   "source": [
    "df['age_60_and_above'] = df['age_60_and_above'].map(lambda x:dict_60[x])"
   ]
  },
  {
   "cell_type": "code",
   "execution_count": 22,
   "id": "3a10d1c9",
   "metadata": {
    "colab": {
     "base_uri": "https://localhost:8080/",
     "height": 423
    },
    "executionInfo": {
     "elapsed": 29,
     "status": "ok",
     "timestamp": 1637922265741,
     "user": {
      "displayName": "JCdata",
      "photoUrl": "https://lh3.googleusercontent.com/a/default-user=s64",
      "userId": "18221923975897538727"
     },
     "user_tz": -540
    },
    "id": "a57f6f13",
    "outputId": "612a8786-5650-447d-c578-860ec1702df3"
   },
   "outputs": [
    {
     "data": {
      "text/html": [
       "<div>\n",
       "<style scoped>\n",
       "    .dataframe tbody tr th:only-of-type {\n",
       "        vertical-align: middle;\n",
       "    }\n",
       "\n",
       "    .dataframe tbody tr th {\n",
       "        vertical-align: top;\n",
       "    }\n",
       "\n",
       "    .dataframe thead th {\n",
       "        text-align: right;\n",
       "    }\n",
       "</style>\n",
       "<table border=\"1\" class=\"dataframe\">\n",
       "  <thead>\n",
       "    <tr style=\"text-align: right;\">\n",
       "      <th></th>\n",
       "      <th>test_date</th>\n",
       "      <th>cough</th>\n",
       "      <th>fever</th>\n",
       "      <th>sore_throat</th>\n",
       "      <th>shortness_of_breath</th>\n",
       "      <th>head_ache</th>\n",
       "      <th>corona_result</th>\n",
       "      <th>age_60_and_above</th>\n",
       "      <th>gender</th>\n",
       "      <th>test_indication</th>\n",
       "    </tr>\n",
       "  </thead>\n",
       "  <tbody>\n",
       "    <tr>\n",
       "      <th>322580</th>\n",
       "      <td>2021-10-11</td>\n",
       "      <td>0</td>\n",
       "      <td>0</td>\n",
       "      <td>0</td>\n",
       "      <td>0</td>\n",
       "      <td>0</td>\n",
       "      <td>0</td>\n",
       "      <td>1</td>\n",
       "      <td>0</td>\n",
       "      <td>Other</td>\n",
       "    </tr>\n",
       "    <tr>\n",
       "      <th>322581</th>\n",
       "      <td>2021-10-11</td>\n",
       "      <td>0</td>\n",
       "      <td>0</td>\n",
       "      <td>0</td>\n",
       "      <td>0</td>\n",
       "      <td>0</td>\n",
       "      <td>0</td>\n",
       "      <td>0</td>\n",
       "      <td>1</td>\n",
       "      <td>Other</td>\n",
       "    </tr>\n",
       "    <tr>\n",
       "      <th>322582</th>\n",
       "      <td>2021-10-11</td>\n",
       "      <td>0</td>\n",
       "      <td>0</td>\n",
       "      <td>0</td>\n",
       "      <td>0</td>\n",
       "      <td>0</td>\n",
       "      <td>0</td>\n",
       "      <td>1</td>\n",
       "      <td>0</td>\n",
       "      <td>Other</td>\n",
       "    </tr>\n",
       "    <tr>\n",
       "      <th>322583</th>\n",
       "      <td>2021-10-11</td>\n",
       "      <td>0</td>\n",
       "      <td>0</td>\n",
       "      <td>0</td>\n",
       "      <td>0</td>\n",
       "      <td>0</td>\n",
       "      <td>0</td>\n",
       "      <td>1</td>\n",
       "      <td>1</td>\n",
       "      <td>Other</td>\n",
       "    </tr>\n",
       "    <tr>\n",
       "      <th>322584</th>\n",
       "      <td>2021-10-11</td>\n",
       "      <td>0</td>\n",
       "      <td>0</td>\n",
       "      <td>0</td>\n",
       "      <td>0</td>\n",
       "      <td>0</td>\n",
       "      <td>0</td>\n",
       "      <td>1</td>\n",
       "      <td>0</td>\n",
       "      <td>Other</td>\n",
       "    </tr>\n",
       "    <tr>\n",
       "      <th>...</th>\n",
       "      <td>...</td>\n",
       "      <td>...</td>\n",
       "      <td>...</td>\n",
       "      <td>...</td>\n",
       "      <td>...</td>\n",
       "      <td>...</td>\n",
       "      <td>...</td>\n",
       "      <td>...</td>\n",
       "      <td>...</td>\n",
       "      <td>...</td>\n",
       "    </tr>\n",
       "    <tr>\n",
       "      <th>7850517</th>\n",
       "      <td>2020-03-20</td>\n",
       "      <td>1</td>\n",
       "      <td>0</td>\n",
       "      <td>0</td>\n",
       "      <td>0</td>\n",
       "      <td>0</td>\n",
       "      <td>0</td>\n",
       "      <td>1</td>\n",
       "      <td>0</td>\n",
       "      <td>Other</td>\n",
       "    </tr>\n",
       "    <tr>\n",
       "      <th>7850518</th>\n",
       "      <td>2020-03-20</td>\n",
       "      <td>0</td>\n",
       "      <td>0</td>\n",
       "      <td>0</td>\n",
       "      <td>0</td>\n",
       "      <td>0</td>\n",
       "      <td>0</td>\n",
       "      <td>1</td>\n",
       "      <td>1</td>\n",
       "      <td>Other</td>\n",
       "    </tr>\n",
       "    <tr>\n",
       "      <th>7850519</th>\n",
       "      <td>2020-03-20</td>\n",
       "      <td>0</td>\n",
       "      <td>0</td>\n",
       "      <td>0</td>\n",
       "      <td>0</td>\n",
       "      <td>0</td>\n",
       "      <td>0</td>\n",
       "      <td>1</td>\n",
       "      <td>0</td>\n",
       "      <td>Other</td>\n",
       "    </tr>\n",
       "    <tr>\n",
       "      <th>7850520</th>\n",
       "      <td>2020-03-20</td>\n",
       "      <td>0</td>\n",
       "      <td>0</td>\n",
       "      <td>0</td>\n",
       "      <td>0</td>\n",
       "      <td>0</td>\n",
       "      <td>0</td>\n",
       "      <td>0</td>\n",
       "      <td>0</td>\n",
       "      <td>Other</td>\n",
       "    </tr>\n",
       "    <tr>\n",
       "      <th>7850521</th>\n",
       "      <td>2020-03-20</td>\n",
       "      <td>0</td>\n",
       "      <td>0</td>\n",
       "      <td>0</td>\n",
       "      <td>0</td>\n",
       "      <td>0</td>\n",
       "      <td>0</td>\n",
       "      <td>0</td>\n",
       "      <td>0</td>\n",
       "      <td>Other</td>\n",
       "    </tr>\n",
       "  </tbody>\n",
       "</table>\n",
       "<p>5853051 rows × 10 columns</p>\n",
       "</div>"
      ],
      "text/plain": [
       "          test_date  cough  fever  sore_throat  shortness_of_breath  \\\n",
       "322580   2021-10-11      0      0            0                    0   \n",
       "322581   2021-10-11      0      0            0                    0   \n",
       "322582   2021-10-11      0      0            0                    0   \n",
       "322583   2021-10-11      0      0            0                    0   \n",
       "322584   2021-10-11      0      0            0                    0   \n",
       "...             ...    ...    ...          ...                  ...   \n",
       "7850517  2020-03-20      1      0            0                    0   \n",
       "7850518  2020-03-20      0      0            0                    0   \n",
       "7850519  2020-03-20      0      0            0                    0   \n",
       "7850520  2020-03-20      0      0            0                    0   \n",
       "7850521  2020-03-20      0      0            0                    0   \n",
       "\n",
       "         head_ache  corona_result  age_60_and_above  gender test_indication  \n",
       "322580           0              0                 1       0           Other  \n",
       "322581           0              0                 0       1           Other  \n",
       "322582           0              0                 1       0           Other  \n",
       "322583           0              0                 1       1           Other  \n",
       "322584           0              0                 1       0           Other  \n",
       "...            ...            ...               ...     ...             ...  \n",
       "7850517          0              0                 1       0           Other  \n",
       "7850518          0              0                 1       1           Other  \n",
       "7850519          0              0                 1       0           Other  \n",
       "7850520          0              0                 0       0           Other  \n",
       "7850521          0              0                 0       0           Other  \n",
       "\n",
       "[5853051 rows x 10 columns]"
      ]
     },
     "execution_count": 22,
     "metadata": {},
     "output_type": "execute_result"
    }
   ],
   "source": [
    "df"
   ]
  },
  {
   "cell_type": "code",
   "execution_count": 23,
   "id": "959f8efb",
   "metadata": {
    "executionInfo": {
     "elapsed": 11,
     "status": "ok",
     "timestamp": 1637922265743,
     "user": {
      "displayName": "JCdata",
      "photoUrl": "https://lh3.googleusercontent.com/a/default-user=s64",
      "userId": "18221923975897538727"
     },
     "user_tz": -540
    },
    "id": "SLx3QYcFKyGc"
   },
   "outputs": [],
   "source": [
    "# test_date 제거\n",
    "df = df.drop('test_date', axis=1)"
   ]
  },
  {
   "cell_type": "markdown",
   "id": "007cafaf",
   "metadata": {},
   "source": [
    "### 테스트 인코딩 - 확진자접촉, 해외, 기타"
   ]
  },
  {
   "cell_type": "code",
   "execution_count": 28,
   "id": "c503759d",
   "metadata": {
    "colab": {
     "base_uri": "https://localhost:8080/"
    },
    "executionInfo": {
     "elapsed": 26,
     "status": "ok",
     "timestamp": 1637922275054,
     "user": {
      "displayName": "JCdata",
      "photoUrl": "https://lh3.googleusercontent.com/a/default-user=s64",
      "userId": "18221923975897538727"
     },
     "user_tz": -540
    },
    "id": "4f42a833",
    "outputId": "62eafa33-a36a-4b65-c0a7-3681ffd54da9"
   },
   "outputs": [
    {
     "data": {
      "text/plain": [
       "{'Other': 2, 'Abroad': 1, 'Contact with confirmed': 0}"
      ]
     },
     "execution_count": 28,
     "metadata": {},
     "output_type": "execute_result"
    }
   ],
   "source": [
    "dict_test = {key:value for (key,value) in zip(df.test_indication.unique(), range(2,-1,-1))}\n",
    "dict_test"
   ]
  },
  {
   "cell_type": "code",
   "execution_count": 29,
   "id": "12c90c43",
   "metadata": {
    "executionInfo": {
     "elapsed": 2171,
     "status": "ok",
     "timestamp": 1637922277203,
     "user": {
      "displayName": "JCdata",
      "photoUrl": "https://lh3.googleusercontent.com/a/default-user=s64",
      "userId": "18221923975897538727"
     },
     "user_tz": -540
    },
    "id": "5c8dd510"
   },
   "outputs": [],
   "source": [
    "df['test_indication'] = df['test_indication'].map(lambda x:dict_test[x])"
   ]
  },
  {
   "cell_type": "code",
   "execution_count": 30,
   "id": "e57a3675",
   "metadata": {
    "colab": {
     "base_uri": "https://localhost:8080/",
     "height": 423
    },
    "executionInfo": {
     "elapsed": 17,
     "status": "ok",
     "timestamp": 1637922277205,
     "user": {
      "displayName": "JCdata",
      "photoUrl": "https://lh3.googleusercontent.com/a/default-user=s64",
      "userId": "18221923975897538727"
     },
     "user_tz": -540
    },
    "id": "d6iIqP3vex7i",
    "outputId": "104d45c9-b6f4-4cc3-d04f-37a6ce6183e5"
   },
   "outputs": [
    {
     "data": {
      "text/html": [
       "<div>\n",
       "<style scoped>\n",
       "    .dataframe tbody tr th:only-of-type {\n",
       "        vertical-align: middle;\n",
       "    }\n",
       "\n",
       "    .dataframe tbody tr th {\n",
       "        vertical-align: top;\n",
       "    }\n",
       "\n",
       "    .dataframe thead th {\n",
       "        text-align: right;\n",
       "    }\n",
       "</style>\n",
       "<table border=\"1\" class=\"dataframe\">\n",
       "  <thead>\n",
       "    <tr style=\"text-align: right;\">\n",
       "      <th></th>\n",
       "      <th>cough</th>\n",
       "      <th>fever</th>\n",
       "      <th>sore_throat</th>\n",
       "      <th>shortness_of_breath</th>\n",
       "      <th>head_ache</th>\n",
       "      <th>corona_result</th>\n",
       "      <th>age_60_and_above</th>\n",
       "      <th>gender</th>\n",
       "      <th>test_indication</th>\n",
       "    </tr>\n",
       "  </thead>\n",
       "  <tbody>\n",
       "    <tr>\n",
       "      <th>322580</th>\n",
       "      <td>0</td>\n",
       "      <td>0</td>\n",
       "      <td>0</td>\n",
       "      <td>0</td>\n",
       "      <td>0</td>\n",
       "      <td>0</td>\n",
       "      <td>1</td>\n",
       "      <td>0</td>\n",
       "      <td>2</td>\n",
       "    </tr>\n",
       "    <tr>\n",
       "      <th>322581</th>\n",
       "      <td>0</td>\n",
       "      <td>0</td>\n",
       "      <td>0</td>\n",
       "      <td>0</td>\n",
       "      <td>0</td>\n",
       "      <td>0</td>\n",
       "      <td>0</td>\n",
       "      <td>1</td>\n",
       "      <td>2</td>\n",
       "    </tr>\n",
       "    <tr>\n",
       "      <th>322582</th>\n",
       "      <td>0</td>\n",
       "      <td>0</td>\n",
       "      <td>0</td>\n",
       "      <td>0</td>\n",
       "      <td>0</td>\n",
       "      <td>0</td>\n",
       "      <td>1</td>\n",
       "      <td>0</td>\n",
       "      <td>2</td>\n",
       "    </tr>\n",
       "    <tr>\n",
       "      <th>322583</th>\n",
       "      <td>0</td>\n",
       "      <td>0</td>\n",
       "      <td>0</td>\n",
       "      <td>0</td>\n",
       "      <td>0</td>\n",
       "      <td>0</td>\n",
       "      <td>1</td>\n",
       "      <td>1</td>\n",
       "      <td>2</td>\n",
       "    </tr>\n",
       "    <tr>\n",
       "      <th>322584</th>\n",
       "      <td>0</td>\n",
       "      <td>0</td>\n",
       "      <td>0</td>\n",
       "      <td>0</td>\n",
       "      <td>0</td>\n",
       "      <td>0</td>\n",
       "      <td>1</td>\n",
       "      <td>0</td>\n",
       "      <td>2</td>\n",
       "    </tr>\n",
       "    <tr>\n",
       "      <th>...</th>\n",
       "      <td>...</td>\n",
       "      <td>...</td>\n",
       "      <td>...</td>\n",
       "      <td>...</td>\n",
       "      <td>...</td>\n",
       "      <td>...</td>\n",
       "      <td>...</td>\n",
       "      <td>...</td>\n",
       "      <td>...</td>\n",
       "    </tr>\n",
       "    <tr>\n",
       "      <th>7850517</th>\n",
       "      <td>1</td>\n",
       "      <td>0</td>\n",
       "      <td>0</td>\n",
       "      <td>0</td>\n",
       "      <td>0</td>\n",
       "      <td>0</td>\n",
       "      <td>1</td>\n",
       "      <td>0</td>\n",
       "      <td>2</td>\n",
       "    </tr>\n",
       "    <tr>\n",
       "      <th>7850518</th>\n",
       "      <td>0</td>\n",
       "      <td>0</td>\n",
       "      <td>0</td>\n",
       "      <td>0</td>\n",
       "      <td>0</td>\n",
       "      <td>0</td>\n",
       "      <td>1</td>\n",
       "      <td>1</td>\n",
       "      <td>2</td>\n",
       "    </tr>\n",
       "    <tr>\n",
       "      <th>7850519</th>\n",
       "      <td>0</td>\n",
       "      <td>0</td>\n",
       "      <td>0</td>\n",
       "      <td>0</td>\n",
       "      <td>0</td>\n",
       "      <td>0</td>\n",
       "      <td>1</td>\n",
       "      <td>0</td>\n",
       "      <td>2</td>\n",
       "    </tr>\n",
       "    <tr>\n",
       "      <th>7850520</th>\n",
       "      <td>0</td>\n",
       "      <td>0</td>\n",
       "      <td>0</td>\n",
       "      <td>0</td>\n",
       "      <td>0</td>\n",
       "      <td>0</td>\n",
       "      <td>0</td>\n",
       "      <td>0</td>\n",
       "      <td>2</td>\n",
       "    </tr>\n",
       "    <tr>\n",
       "      <th>7850521</th>\n",
       "      <td>0</td>\n",
       "      <td>0</td>\n",
       "      <td>0</td>\n",
       "      <td>0</td>\n",
       "      <td>0</td>\n",
       "      <td>0</td>\n",
       "      <td>0</td>\n",
       "      <td>0</td>\n",
       "      <td>2</td>\n",
       "    </tr>\n",
       "  </tbody>\n",
       "</table>\n",
       "<p>5853051 rows × 9 columns</p>\n",
       "</div>"
      ],
      "text/plain": [
       "         cough  fever  sore_throat  shortness_of_breath  head_ache  \\\n",
       "322580       0      0            0                    0          0   \n",
       "322581       0      0            0                    0          0   \n",
       "322582       0      0            0                    0          0   \n",
       "322583       0      0            0                    0          0   \n",
       "322584       0      0            0                    0          0   \n",
       "...        ...    ...          ...                  ...        ...   \n",
       "7850517      1      0            0                    0          0   \n",
       "7850518      0      0            0                    0          0   \n",
       "7850519      0      0            0                    0          0   \n",
       "7850520      0      0            0                    0          0   \n",
       "7850521      0      0            0                    0          0   \n",
       "\n",
       "         corona_result  age_60_and_above  gender  test_indication  \n",
       "322580               0                 1       0                2  \n",
       "322581               0                 0       1                2  \n",
       "322582               0                 1       0                2  \n",
       "322583               0                 1       1                2  \n",
       "322584               0                 1       0                2  \n",
       "...                ...               ...     ...              ...  \n",
       "7850517              0                 1       0                2  \n",
       "7850518              0                 1       1                2  \n",
       "7850519              0                 1       0                2  \n",
       "7850520              0                 0       0                2  \n",
       "7850521              0                 0       0                2  \n",
       "\n",
       "[5853051 rows x 9 columns]"
      ]
     },
     "execution_count": 30,
     "metadata": {},
     "output_type": "execute_result"
    }
   ],
   "source": [
    "df"
   ]
  },
  {
   "cell_type": "code",
   "execution_count": 31,
   "id": "e76668cd",
   "metadata": {
    "executionInfo": {
     "elapsed": 15,
     "status": "ok",
     "timestamp": 1637922277206,
     "user": {
      "displayName": "JCdata",
      "photoUrl": "https://lh3.googleusercontent.com/a/default-user=s64",
      "userId": "18221923975897538727"
     },
     "user_tz": -540
    },
    "id": "a338fdef"
   },
   "outputs": [],
   "source": [
    "train_df = df.drop('corona_result', axis=1) # label 제거\n",
    "# train_df = train_df.drop('test_date', axis=1) # test_date 제거\n",
    "# train_df"
   ]
  },
  {
   "cell_type": "markdown",
   "id": "5707eda4",
   "metadata": {
    "id": "kMhEFQ_zGOI-"
   },
   "source": [
    "## Feature 생성"
   ]
  },
  {
   "cell_type": "code",
   "execution_count": 32,
   "id": "15ad2e0e",
   "metadata": {
    "executionInfo": {
     "elapsed": 14,
     "status": "ok",
     "timestamp": 1637922277206,
     "user": {
      "displayName": "JCdata",
      "photoUrl": "https://lh3.googleusercontent.com/a/default-user=s64",
      "userId": "18221923975897538727"
     },
     "user_tz": -540
    },
    "id": "hX6Bxth8Y3wP"
   },
   "outputs": [],
   "source": [
    "train_df['sum_symptom'] = train_df.loc[:,'cough':'head_ache'].sum(axis=1)"
   ]
  },
  {
   "cell_type": "code",
   "execution_count": 33,
   "id": "3d7ff8d0",
   "metadata": {
    "colab": {
     "base_uri": "https://localhost:8080/",
     "height": 423
    },
    "executionInfo": {
     "elapsed": 554,
     "status": "ok",
     "timestamp": 1637922277746,
     "user": {
      "displayName": "JCdata",
      "photoUrl": "https://lh3.googleusercontent.com/a/default-user=s64",
      "userId": "18221923975897538727"
     },
     "user_tz": -540
    },
    "id": "X8Sm0rFbG7ac",
    "outputId": "8286d18b-7b31-471b-e5f3-77f3ac63fcde"
   },
   "outputs": [
    {
     "data": {
      "text/html": [
       "<div>\n",
       "<style scoped>\n",
       "    .dataframe tbody tr th:only-of-type {\n",
       "        vertical-align: middle;\n",
       "    }\n",
       "\n",
       "    .dataframe tbody tr th {\n",
       "        vertical-align: top;\n",
       "    }\n",
       "\n",
       "    .dataframe thead th {\n",
       "        text-align: right;\n",
       "    }\n",
       "</style>\n",
       "<table border=\"1\" class=\"dataframe\">\n",
       "  <thead>\n",
       "    <tr style=\"text-align: right;\">\n",
       "      <th></th>\n",
       "      <th>cough</th>\n",
       "      <th>fever</th>\n",
       "      <th>sore_throat</th>\n",
       "      <th>shortness_of_breath</th>\n",
       "      <th>head_ache</th>\n",
       "      <th>age_60_and_above</th>\n",
       "      <th>gender</th>\n",
       "      <th>test_indication</th>\n",
       "      <th>sum_symptom</th>\n",
       "    </tr>\n",
       "  </thead>\n",
       "  <tbody>\n",
       "    <tr>\n",
       "      <th>322580</th>\n",
       "      <td>0</td>\n",
       "      <td>0</td>\n",
       "      <td>0</td>\n",
       "      <td>0</td>\n",
       "      <td>0</td>\n",
       "      <td>1</td>\n",
       "      <td>0</td>\n",
       "      <td>2</td>\n",
       "      <td>0</td>\n",
       "    </tr>\n",
       "    <tr>\n",
       "      <th>322581</th>\n",
       "      <td>0</td>\n",
       "      <td>0</td>\n",
       "      <td>0</td>\n",
       "      <td>0</td>\n",
       "      <td>0</td>\n",
       "      <td>0</td>\n",
       "      <td>1</td>\n",
       "      <td>2</td>\n",
       "      <td>0</td>\n",
       "    </tr>\n",
       "    <tr>\n",
       "      <th>322582</th>\n",
       "      <td>0</td>\n",
       "      <td>0</td>\n",
       "      <td>0</td>\n",
       "      <td>0</td>\n",
       "      <td>0</td>\n",
       "      <td>1</td>\n",
       "      <td>0</td>\n",
       "      <td>2</td>\n",
       "      <td>0</td>\n",
       "    </tr>\n",
       "    <tr>\n",
       "      <th>322583</th>\n",
       "      <td>0</td>\n",
       "      <td>0</td>\n",
       "      <td>0</td>\n",
       "      <td>0</td>\n",
       "      <td>0</td>\n",
       "      <td>1</td>\n",
       "      <td>1</td>\n",
       "      <td>2</td>\n",
       "      <td>0</td>\n",
       "    </tr>\n",
       "    <tr>\n",
       "      <th>322584</th>\n",
       "      <td>0</td>\n",
       "      <td>0</td>\n",
       "      <td>0</td>\n",
       "      <td>0</td>\n",
       "      <td>0</td>\n",
       "      <td>1</td>\n",
       "      <td>0</td>\n",
       "      <td>2</td>\n",
       "      <td>0</td>\n",
       "    </tr>\n",
       "    <tr>\n",
       "      <th>...</th>\n",
       "      <td>...</td>\n",
       "      <td>...</td>\n",
       "      <td>...</td>\n",
       "      <td>...</td>\n",
       "      <td>...</td>\n",
       "      <td>...</td>\n",
       "      <td>...</td>\n",
       "      <td>...</td>\n",
       "      <td>...</td>\n",
       "    </tr>\n",
       "    <tr>\n",
       "      <th>7850517</th>\n",
       "      <td>1</td>\n",
       "      <td>0</td>\n",
       "      <td>0</td>\n",
       "      <td>0</td>\n",
       "      <td>0</td>\n",
       "      <td>1</td>\n",
       "      <td>0</td>\n",
       "      <td>2</td>\n",
       "      <td>1</td>\n",
       "    </tr>\n",
       "    <tr>\n",
       "      <th>7850518</th>\n",
       "      <td>0</td>\n",
       "      <td>0</td>\n",
       "      <td>0</td>\n",
       "      <td>0</td>\n",
       "      <td>0</td>\n",
       "      <td>1</td>\n",
       "      <td>1</td>\n",
       "      <td>2</td>\n",
       "      <td>0</td>\n",
       "    </tr>\n",
       "    <tr>\n",
       "      <th>7850519</th>\n",
       "      <td>0</td>\n",
       "      <td>0</td>\n",
       "      <td>0</td>\n",
       "      <td>0</td>\n",
       "      <td>0</td>\n",
       "      <td>1</td>\n",
       "      <td>0</td>\n",
       "      <td>2</td>\n",
       "      <td>0</td>\n",
       "    </tr>\n",
       "    <tr>\n",
       "      <th>7850520</th>\n",
       "      <td>0</td>\n",
       "      <td>0</td>\n",
       "      <td>0</td>\n",
       "      <td>0</td>\n",
       "      <td>0</td>\n",
       "      <td>0</td>\n",
       "      <td>0</td>\n",
       "      <td>2</td>\n",
       "      <td>0</td>\n",
       "    </tr>\n",
       "    <tr>\n",
       "      <th>7850521</th>\n",
       "      <td>0</td>\n",
       "      <td>0</td>\n",
       "      <td>0</td>\n",
       "      <td>0</td>\n",
       "      <td>0</td>\n",
       "      <td>0</td>\n",
       "      <td>0</td>\n",
       "      <td>2</td>\n",
       "      <td>0</td>\n",
       "    </tr>\n",
       "  </tbody>\n",
       "</table>\n",
       "<p>5853051 rows × 9 columns</p>\n",
       "</div>"
      ],
      "text/plain": [
       "         cough  fever  sore_throat  shortness_of_breath  head_ache  \\\n",
       "322580       0      0            0                    0          0   \n",
       "322581       0      0            0                    0          0   \n",
       "322582       0      0            0                    0          0   \n",
       "322583       0      0            0                    0          0   \n",
       "322584       0      0            0                    0          0   \n",
       "...        ...    ...          ...                  ...        ...   \n",
       "7850517      1      0            0                    0          0   \n",
       "7850518      0      0            0                    0          0   \n",
       "7850519      0      0            0                    0          0   \n",
       "7850520      0      0            0                    0          0   \n",
       "7850521      0      0            0                    0          0   \n",
       "\n",
       "         age_60_and_above  gender  test_indication  sum_symptom  \n",
       "322580                  1       0                2            0  \n",
       "322581                  0       1                2            0  \n",
       "322582                  1       0                2            0  \n",
       "322583                  1       1                2            0  \n",
       "322584                  1       0                2            0  \n",
       "...                   ...     ...              ...          ...  \n",
       "7850517                 1       0                2            1  \n",
       "7850518                 1       1                2            0  \n",
       "7850519                 1       0                2            0  \n",
       "7850520                 0       0                2            0  \n",
       "7850521                 0       0                2            0  \n",
       "\n",
       "[5853051 rows x 9 columns]"
      ]
     },
     "execution_count": 33,
     "metadata": {},
     "output_type": "execute_result"
    }
   ],
   "source": [
    "train_df"
   ]
  },
  {
   "cell_type": "code",
   "execution_count": 34,
   "id": "481fab36",
   "metadata": {
    "colab": {
     "base_uri": "https://localhost:8080/",
     "height": 423
    },
    "executionInfo": {
     "elapsed": 11,
     "status": "ok",
     "timestamp": 1637922277747,
     "user": {
      "displayName": "JCdata",
      "photoUrl": "https://lh3.googleusercontent.com/a/default-user=s64",
      "userId": "18221923975897538727"
     },
     "user_tz": -540
    },
    "id": "fdbc623f",
    "outputId": "8ba77e99-3231-44ec-aabf-7bcff27e3b0f"
   },
   "outputs": [
    {
     "data": {
      "text/html": [
       "<div>\n",
       "<style scoped>\n",
       "    .dataframe tbody tr th:only-of-type {\n",
       "        vertical-align: middle;\n",
       "    }\n",
       "\n",
       "    .dataframe tbody tr th {\n",
       "        vertical-align: top;\n",
       "    }\n",
       "\n",
       "    .dataframe thead th {\n",
       "        text-align: right;\n",
       "    }\n",
       "</style>\n",
       "<table border=\"1\" class=\"dataframe\">\n",
       "  <thead>\n",
       "    <tr style=\"text-align: right;\">\n",
       "      <th></th>\n",
       "      <th>corona_result</th>\n",
       "    </tr>\n",
       "  </thead>\n",
       "  <tbody>\n",
       "    <tr>\n",
       "      <th>322580</th>\n",
       "      <td>0</td>\n",
       "    </tr>\n",
       "    <tr>\n",
       "      <th>322581</th>\n",
       "      <td>0</td>\n",
       "    </tr>\n",
       "    <tr>\n",
       "      <th>322582</th>\n",
       "      <td>0</td>\n",
       "    </tr>\n",
       "    <tr>\n",
       "      <th>322583</th>\n",
       "      <td>0</td>\n",
       "    </tr>\n",
       "    <tr>\n",
       "      <th>322584</th>\n",
       "      <td>0</td>\n",
       "    </tr>\n",
       "    <tr>\n",
       "      <th>...</th>\n",
       "      <td>...</td>\n",
       "    </tr>\n",
       "    <tr>\n",
       "      <th>7850517</th>\n",
       "      <td>0</td>\n",
       "    </tr>\n",
       "    <tr>\n",
       "      <th>7850518</th>\n",
       "      <td>0</td>\n",
       "    </tr>\n",
       "    <tr>\n",
       "      <th>7850519</th>\n",
       "      <td>0</td>\n",
       "    </tr>\n",
       "    <tr>\n",
       "      <th>7850520</th>\n",
       "      <td>0</td>\n",
       "    </tr>\n",
       "    <tr>\n",
       "      <th>7850521</th>\n",
       "      <td>0</td>\n",
       "    </tr>\n",
       "  </tbody>\n",
       "</table>\n",
       "<p>5853051 rows × 1 columns</p>\n",
       "</div>"
      ],
      "text/plain": [
       "         corona_result\n",
       "322580               0\n",
       "322581               0\n",
       "322582               0\n",
       "322583               0\n",
       "322584               0\n",
       "...                ...\n",
       "7850517              0\n",
       "7850518              0\n",
       "7850519              0\n",
       "7850520              0\n",
       "7850521              0\n",
       "\n",
       "[5853051 rows x 1 columns]"
      ]
     },
     "execution_count": 34,
     "metadata": {},
     "output_type": "execute_result"
    }
   ],
   "source": [
    "label_df = df.iloc[:,5:6]\n",
    "label_df"
   ]
  },
  {
   "cell_type": "code",
   "execution_count": 37,
   "id": "84749e31",
   "metadata": {
    "executionInfo": {
     "elapsed": 11,
     "status": "ok",
     "timestamp": 1637922277749,
     "user": {
      "displayName": "JCdata",
      "photoUrl": "https://lh3.googleusercontent.com/a/default-user=s64",
      "userId": "18221923975897538727"
     },
     "user_tz": -540
    },
    "id": "138b5b6d"
   },
   "outputs": [],
   "source": [
    "model_params = {\n",
    "    'n_estimators': 5000,\n",
    "    'learning_rate': 0.01,\n",
    "    'eval_metric': 'AUC',\n",
    "    'loss_function': 'CrossEntropy',\n",
    "    'od_wait': 500,\n",
    "    'metric_period': 100,\n",
    "    'depth': 8,\n",
    "    'rsm': 0.8, # columns\n",
    "    'random_seed':SEED,\n",
    "    'subsample':0.8, # rows\n",
    "    'max_ctr_complexity':1,\n",
    "#     'task_type':'GPU'\n",
    "\n",
    "}\n",
    "def train_model(model_params, train_df, label_df, ratio):\n",
    "    kf = KFold(n_splits=5, shuffle=True, random_state=SEED)\n",
    "    train_df_ = train_df.copy().iloc[:int(len(train_df)*ratio),:]\n",
    "    label_df_ = label_df.copy().iloc[:int(len(train_df)*ratio),:]\n",
    "    for idx, (train_index, test_index) in enumerate(kf.split(train_df_)):\n",
    "        # if idx == 0:\n",
    "        #     continue\n",
    "        x_train, x_test = train_df_.iloc[train_index], train_df_.iloc[test_index]\n",
    "        y_train, y_test = label_df_.iloc[train_index], label_df_.iloc[test_index]\n",
    "\n",
    "        test_preds = np.zeros(x_test.shape[0])\n",
    "        y_oof = np.zeros(x_train.shape[0])\n",
    "\n",
    "        fi = pd.DataFrame()\n",
    "        fi['feature'] = train_df.columns[:]\n",
    "\n",
    "        dtrain = lgb.Dataset(x_train, label=y_train)\n",
    "\n",
    "        clf = CatBoostClassifier(**model_params)\n",
    "        clf.fit(x_train, y_train, eval_set=(x_test, y_test),\n",
    "               cat_features=list(train_df.columns),\n",
    "               use_best_model=True,\n",
    "               verbose=True)\n",
    "\n",
    "        test_preds = clf.predict_proba(x_test)[:,1]\n",
    "\n",
    "        fi['importance'] = clf.feature_importances_\n",
    "\n",
    "        gc.collect()\n",
    "        break\n",
    "        \n",
    "    return clf"
   ]
  },
  {
   "cell_type": "code",
   "execution_count": null,
   "id": "4b95d715",
   "metadata": {
    "colab": {
     "background_save": true,
     "base_uri": "https://localhost:8080/"
    },
    "id": "faea3317"
   },
   "outputs": [
    {
     "name": "stderr",
     "output_type": "stream",
     "text": [
      "Warning: Overfitting detector is active, thus evaluation metric is calculated on every iteration. 'metric_period' is ignored for evaluation metric.\n"
     ]
    },
    {
     "name": "stdout",
     "output_type": "stream",
     "text": [
      "0:\ttest: 0.6828957\tbest: 0.6828957 (0)\ttotal: 999ms\tremaining: 1h 23m 11s\n",
      "100:\ttest: 0.7837786\tbest: 0.7837786 (100)\ttotal: 1m 19s\tremaining: 1h 4m 5s\n",
      "200:\ttest: 0.7853651\tbest: 0.7853651 (200)\ttotal: 2m 44s\tremaining: 1h 5m 20s\n",
      "300:\ttest: 0.7860484\tbest: 0.7860484 (300)\ttotal: 4m 6s\tremaining: 1h 4m 13s\n",
      "400:\ttest: 0.7863273\tbest: 0.7863273 (400)\ttotal: 5m 25s\tremaining: 1h 2m 8s\n",
      "500:\ttest: 0.7864021\tbest: 0.7864039 (487)\ttotal: 6m 44s\tremaining: 1h 33s\n",
      "600:\ttest: 0.7864097\tbest: 0.7864187 (578)\ttotal: 8m 5s\tremaining: 59m 12s\n",
      "700:\ttest: 0.7864180\tbest: 0.7864187 (578)\ttotal: 9m 26s\tremaining: 57m 54s\n",
      "800:\ttest: 0.7864611\tbest: 0.7864611 (799)\ttotal: 10m 42s\tremaining: 56m 6s\n",
      "900:\ttest: 0.7864611\tbest: 0.7864611 (799)\ttotal: 11m 55s\tremaining: 54m 14s\n",
      "1000:\ttest: 0.7864613\tbest: 0.7864614 (997)\ttotal: 13m 15s\tremaining: 52m 57s\n",
      "1100:\ttest: 0.7864615\tbest: 0.7864615 (1079)\ttotal: 14m 31s\tremaining: 51m 27s\n",
      "1200:\ttest: 0.7864620\tbest: 0.7864620 (1162)\ttotal: 15m 46s\tremaining: 49m 53s\n",
      "1300:\ttest: 0.7864615\tbest: 0.7864620 (1207)\ttotal: 17m 4s\tremaining: 48m 33s\n",
      "1400:\ttest: 0.7864616\tbest: 0.7864620 (1207)\ttotal: 18m 23s\tremaining: 47m 13s\n",
      "1500:\ttest: 0.7864615\tbest: 0.7864620 (1207)\ttotal: 19m 41s\tremaining: 45m 54s\n"
     ]
    }
   ],
   "source": [
    "clf = train_model(model_params, train_df, label_df, 1.0)\n",
    "\n",
    "# A - base, 0.4 data -> 0.78223 (512)\n",
    "# B - A + sum_symptom -> 0.78223\n",
    "# C - B + depth 8 -> 0.78224 (759)\n",
    "# D - C + 0.6 data -> 0.7901\n",
    "# E - D + 0.8 data -> 0.7903\n",
    "# F - E + max_ctr_complexity 1 -> 0.7904\n",
    "# G - F + 1.0 data -> 0.7864"
   ]
  },
  {
   "cell_type": "code",
   "execution_count": null,
   "id": "48b12cc8",
   "metadata": {
    "colab": {
     "background_save": true
    },
    "id": "NQbe6TPNTmf8"
   },
   "outputs": [
    {
     "data": {
      "text/plain": [
       "50"
      ]
     },
     "execution_count": null,
     "metadata": {},
     "output_type": "execute_result"
    }
   ],
   "source": [
    "gc.collect()"
   ]
  },
  {
   "cell_type": "markdown",
   "id": "1b3cbef1",
   "metadata": {
    "id": "FTbvh_b9GbwT"
   },
   "source": [
    "## 모델 저장"
   ]
  },
  {
   "cell_type": "code",
   "execution_count": null,
   "id": "f09439a4",
   "metadata": {
    "colab": {
     "background_save": true
    },
    "id": "WMlBPkq5AhYy"
   },
   "outputs": [],
   "source": [
    "# clf.save_model('/content/drive/MyDrive/yeardream/model/fold0.cbm', format='cbm')"
   ]
  }
 ],
 "metadata": {
  "accelerator": "GPU",
  "colab": {
   "collapsed_sections": [
    "EqwWJdTuFTnA"
   ],
   "machine_shape": "hm",
   "name": "symptom2.ipynb",
   "version": ""
  },
  "kernelspec": {
   "display_name": "Python 3 (ipykernel)",
   "language": "python",
   "name": "python3"
  },
  "language_info": {
   "codemirror_mode": {
    "name": "ipython",
    "version": 3
   },
   "file_extension": ".py",
   "mimetype": "text/x-python",
   "name": "python",
   "nbconvert_exporter": "python",
   "pygments_lexer": "ipython3",
   "version": "3.8.12"
  }
 },
 "nbformat": 4,
 "nbformat_minor": 5
}
