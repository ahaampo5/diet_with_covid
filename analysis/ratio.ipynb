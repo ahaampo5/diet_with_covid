{
 "cells": [
  {
   "cell_type": "code",
   "execution_count": 1,
   "metadata": {},
   "outputs": [],
   "source": [
    "import numpy as np\n",
    "import pandas as pd\n",
    "import matplotlib.pyplot as plt\n",
    "%matplotlib inline\n",
    "import seaborn as sns"
   ]
  },
  {
   "cell_type": "code",
   "execution_count": 2,
   "metadata": {},
   "outputs": [],
   "source": [
    "kg = pd.read_csv('./DB/Food_Supply_Quantity_kg_Data.csv')\n",
    "protein = pd.read_csv('./DB/Protein_Supply_Quantity_Data.csv')\n",
    "kcal = pd.read_csv('./DB/Food_Supply_kcal_Data.csv')\n",
    "fat = pd.read_csv('./DB/Fat_Supply_Quantity_Data.csv')\n",
    "desc = pd.read_csv('./DB/Supply_Food_Data_Descriptions.csv')"
   ]
  },
  {
   "cell_type": "code",
   "execution_count": 5,
   "metadata": {},
   "outputs": [
    {
     "data": {
      "text/plain": [
       "Index(['Country', 'Alcoholic Beverages', 'Animal fats', 'Animal Products',\n",
       "       'Aquatic Products, Other', 'Cereals - Excluding Beer', 'Eggs',\n",
       "       'Fish, Seafood', 'Fruits - Excluding Wine', 'Meat',\n",
       "       'Milk - Excluding Butter', 'Miscellaneous', 'Offals', 'Oilcrops',\n",
       "       'Pulses', 'Spices', 'Starchy Roots', 'Stimulants', 'Sugar & Sweeteners',\n",
       "       'Sugar Crops', 'Treenuts', 'Vegetable Oils', 'Vegetables',\n",
       "       'Vegetal Products', 'Obesity', 'Undernourished', 'Confirmed', 'Deaths',\n",
       "       'Recovered', 'Active', 'Population', 'Unit (all except Population)'],\n",
       "      dtype='object')"
      ]
     },
     "execution_count": 5,
     "metadata": {},
     "output_type": "execute_result"
    }
   ],
   "source": [
    "kg.columns"
   ]
  },
  {
   "cell_type": "code",
   "execution_count": 12,
   "metadata": {},
   "outputs": [
    {
     "data": {
      "text/html": [
       "<div>\n",
       "<style scoped>\n",
       "    .dataframe tbody tr th:only-of-type {\n",
       "        vertical-align: middle;\n",
       "    }\n",
       "\n",
       "    .dataframe tbody tr th {\n",
       "        vertical-align: top;\n",
       "    }\n",
       "\n",
       "    .dataframe thead th {\n",
       "        text-align: right;\n",
       "    }\n",
       "</style>\n",
       "<table border=\"1\" class=\"dataframe\">\n",
       "  <thead>\n",
       "    <tr style=\"text-align: right;\">\n",
       "      <th></th>\n",
       "      <th>Country</th>\n",
       "      <th>Population</th>\n",
       "      <th>Confirmed</th>\n",
       "      <th>Deaths</th>\n",
       "      <th>Recovered</th>\n",
       "      <th>Active</th>\n",
       "    </tr>\n",
       "  </thead>\n",
       "  <tbody>\n",
       "    <tr>\n",
       "      <th>0</th>\n",
       "      <td>Afghanistan</td>\n",
       "      <td>38928000.0</td>\n",
       "      <td>0.142134</td>\n",
       "      <td>0.006186</td>\n",
       "      <td>0.123374</td>\n",
       "      <td>0.012574</td>\n",
       "    </tr>\n",
       "    <tr>\n",
       "      <th>1</th>\n",
       "      <td>Albania</td>\n",
       "      <td>2838000.0</td>\n",
       "      <td>2.967301</td>\n",
       "      <td>0.050951</td>\n",
       "      <td>1.792636</td>\n",
       "      <td>1.123714</td>\n",
       "    </tr>\n",
       "    <tr>\n",
       "      <th>2</th>\n",
       "      <td>Algeria</td>\n",
       "      <td>44357000.0</td>\n",
       "      <td>0.244897</td>\n",
       "      <td>0.006558</td>\n",
       "      <td>0.167572</td>\n",
       "      <td>0.070767</td>\n",
       "    </tr>\n",
       "    <tr>\n",
       "      <th>3</th>\n",
       "      <td>Angola</td>\n",
       "      <td>32522000.0</td>\n",
       "      <td>0.061687</td>\n",
       "      <td>0.001461</td>\n",
       "      <td>0.056808</td>\n",
       "      <td>0.003419</td>\n",
       "    </tr>\n",
       "    <tr>\n",
       "      <th>4</th>\n",
       "      <td>Antigua and Barbuda</td>\n",
       "      <td>98000.0</td>\n",
       "      <td>0.293878</td>\n",
       "      <td>0.007143</td>\n",
       "      <td>0.190816</td>\n",
       "      <td>0.095918</td>\n",
       "    </tr>\n",
       "  </tbody>\n",
       "</table>\n",
       "</div>"
      ],
      "text/plain": [
       "               Country  Population  Confirmed    Deaths  Recovered    Active\n",
       "0          Afghanistan  38928000.0   0.142134  0.006186   0.123374  0.012574\n",
       "1              Albania   2838000.0   2.967301  0.050951   1.792636  1.123714\n",
       "2              Algeria  44357000.0   0.244897  0.006558   0.167572  0.070767\n",
       "3               Angola  32522000.0   0.061687  0.001461   0.056808  0.003419\n",
       "4  Antigua and Barbuda     98000.0   0.293878  0.007143   0.190816  0.095918"
      ]
     },
     "execution_count": 12,
     "metadata": {},
     "output_type": "execute_result"
    }
   ],
   "source": [
    "df = kg[['Country','Population','Confirmed','Deaths','Recovered','Active']]\n",
    "df.head()"
   ]
  },
  {
   "cell_type": "code",
   "execution_count": 13,
   "metadata": {},
   "outputs": [
    {
     "data": {
      "text/plain": [
       "Country       0\n",
       "Population    0\n",
       "Confirmed     6\n",
       "Deaths        6\n",
       "Recovered     6\n",
       "Active        8\n",
       "dtype: int64"
      ]
     },
     "execution_count": 13,
     "metadata": {},
     "output_type": "execute_result"
    }
   ],
   "source": [
    "df.isna().sum()"
   ]
  },
  {
   "cell_type": "code",
   "execution_count": 14,
   "metadata": {},
   "outputs": [],
   "source": [
    "col = list(df.columns)\n",
    "for c in col[1:] :\n",
    "    df = df[df[c].notna()]"
   ]
  },
  {
   "cell_type": "code",
   "execution_count": 18,
   "metadata": {},
   "outputs": [
    {
     "data": {
      "text/html": [
       "<div>\n",
       "<style scoped>\n",
       "    .dataframe tbody tr th:only-of-type {\n",
       "        vertical-align: middle;\n",
       "    }\n",
       "\n",
       "    .dataframe tbody tr th {\n",
       "        vertical-align: top;\n",
       "    }\n",
       "\n",
       "    .dataframe thead th {\n",
       "        text-align: right;\n",
       "    }\n",
       "</style>\n",
       "<table border=\"1\" class=\"dataframe\">\n",
       "  <thead>\n",
       "    <tr style=\"text-align: right;\">\n",
       "      <th></th>\n",
       "      <th>Country</th>\n",
       "      <th>Population</th>\n",
       "      <th>Confirmed</th>\n",
       "      <th>Deaths</th>\n",
       "      <th>Recovered</th>\n",
       "      <th>Active</th>\n",
       "      <th>ratio_Deaths</th>\n",
       "      <th>ratio_Recovered</th>\n",
       "      <th>ratio_Active</th>\n",
       "      <th>Population_Confirm</th>\n",
       "      <th>Population_Deaths</th>\n",
       "      <th>Population_Recovered</th>\n",
       "      <th>Population_Active</th>\n",
       "    </tr>\n",
       "  </thead>\n",
       "  <tbody>\n",
       "    <tr>\n",
       "      <th>0</th>\n",
       "      <td>Afghanistan</td>\n",
       "      <td>38928000.0</td>\n",
       "      <td>0.142134</td>\n",
       "      <td>0.006186</td>\n",
       "      <td>0.123374</td>\n",
       "      <td>0.012574</td>\n",
       "      <td>0.043521</td>\n",
       "      <td>0.868010</td>\n",
       "      <td>0.088469</td>\n",
       "      <td>5533000.0</td>\n",
       "      <td>240800.0</td>\n",
       "      <td>4802700.0</td>\n",
       "      <td>489500.0</td>\n",
       "    </tr>\n",
       "    <tr>\n",
       "      <th>1</th>\n",
       "      <td>Albania</td>\n",
       "      <td>2838000.0</td>\n",
       "      <td>2.967301</td>\n",
       "      <td>0.050951</td>\n",
       "      <td>1.792636</td>\n",
       "      <td>1.123714</td>\n",
       "      <td>0.017171</td>\n",
       "      <td>0.604130</td>\n",
       "      <td>0.378699</td>\n",
       "      <td>8421200.0</td>\n",
       "      <td>144600.0</td>\n",
       "      <td>5087500.0</td>\n",
       "      <td>3189100.0</td>\n",
       "    </tr>\n",
       "    <tr>\n",
       "      <th>2</th>\n",
       "      <td>Algeria</td>\n",
       "      <td>44357000.0</td>\n",
       "      <td>0.244897</td>\n",
       "      <td>0.006558</td>\n",
       "      <td>0.167572</td>\n",
       "      <td>0.070767</td>\n",
       "      <td>0.026779</td>\n",
       "      <td>0.684256</td>\n",
       "      <td>0.288965</td>\n",
       "      <td>10862900.0</td>\n",
       "      <td>290900.0</td>\n",
       "      <td>7433000.0</td>\n",
       "      <td>3139000.0</td>\n",
       "    </tr>\n",
       "    <tr>\n",
       "      <th>3</th>\n",
       "      <td>Angola</td>\n",
       "      <td>32522000.0</td>\n",
       "      <td>0.061687</td>\n",
       "      <td>0.001461</td>\n",
       "      <td>0.056808</td>\n",
       "      <td>0.003419</td>\n",
       "      <td>0.023677</td>\n",
       "      <td>0.920895</td>\n",
       "      <td>0.055428</td>\n",
       "      <td>2006200.0</td>\n",
       "      <td>47500.0</td>\n",
       "      <td>1847500.0</td>\n",
       "      <td>111200.0</td>\n",
       "    </tr>\n",
       "    <tr>\n",
       "      <th>4</th>\n",
       "      <td>Antigua and Barbuda</td>\n",
       "      <td>98000.0</td>\n",
       "      <td>0.293878</td>\n",
       "      <td>0.007143</td>\n",
       "      <td>0.190816</td>\n",
       "      <td>0.095918</td>\n",
       "      <td>0.024306</td>\n",
       "      <td>0.649306</td>\n",
       "      <td>0.326389</td>\n",
       "      <td>28800.0</td>\n",
       "      <td>700.0</td>\n",
       "      <td>18700.0</td>\n",
       "      <td>9400.0</td>\n",
       "    </tr>\n",
       "  </tbody>\n",
       "</table>\n",
       "</div>"
      ],
      "text/plain": [
       "               Country  Population  Confirmed    Deaths  Recovered    Active  \\\n",
       "0          Afghanistan  38928000.0   0.142134  0.006186   0.123374  0.012574   \n",
       "1              Albania   2838000.0   2.967301  0.050951   1.792636  1.123714   \n",
       "2              Algeria  44357000.0   0.244897  0.006558   0.167572  0.070767   \n",
       "3               Angola  32522000.0   0.061687  0.001461   0.056808  0.003419   \n",
       "4  Antigua and Barbuda     98000.0   0.293878  0.007143   0.190816  0.095918   \n",
       "\n",
       "   ratio_Deaths  ratio_Recovered  ratio_Active  Population_Confirm  \\\n",
       "0      0.043521         0.868010      0.088469           5533000.0   \n",
       "1      0.017171         0.604130      0.378699           8421200.0   \n",
       "2      0.026779         0.684256      0.288965          10862900.0   \n",
       "3      0.023677         0.920895      0.055428           2006200.0   \n",
       "4      0.024306         0.649306      0.326389             28800.0   \n",
       "\n",
       "   Population_Deaths  Population_Recovered  Population_Active  \n",
       "0           240800.0             4802700.0           489500.0  \n",
       "1           144600.0             5087500.0          3189100.0  \n",
       "2           290900.0             7433000.0          3139000.0  \n",
       "3            47500.0             1847500.0           111200.0  \n",
       "4              700.0               18700.0             9400.0  "
      ]
     },
     "execution_count": 18,
     "metadata": {},
     "output_type": "execute_result"
    }
   ],
   "source": [
    "df['ratio_Deaths'] = df['Deaths']/df['Confirmed']\n",
    "df['ratio_Recovered'] = df['Recovered']/df['Confirmed']\n",
    "df['ratio_Active'] = df['Active']/df['Confirmed']\n",
    "df['Population_Confirm'] = df['Confirmed']*df['Population']\n",
    "df['Population_Deaths'] = df['Deaths']*df['Population']\n",
    "df['Population_Recovered'] = df['Recovered']*df['Population']\n",
    "df['Population_Active'] = df['Active']*df['Population']\n",
    "df.head()"
   ]
  }
 ],
 "metadata": {
  "kernelspec": {
   "display_name": "Python 3",
   "language": "python",
   "name": "python3"
  },
  "language_info": {
   "codemirror_mode": {
    "name": "ipython",
    "version": 3
   },
   "file_extension": ".py",
   "mimetype": "text/x-python",
   "name": "python",
   "nbconvert_exporter": "python",
   "pygments_lexer": "ipython3",
   "version": "3.7.3"
  }
 },
 "nbformat": 4,
 "nbformat_minor": 2
}
